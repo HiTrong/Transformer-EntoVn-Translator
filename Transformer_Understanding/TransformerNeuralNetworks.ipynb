{
 "cells": [
  {
   "cell_type": "markdown",
   "id": "3bdb8bd9-5949-419a-a6b2-d22990695115",
   "metadata": {},
   "source": [
    "# Transformer Neural Networks - Understanding"
   ]
  },
  {
   "cell_type": "markdown",
   "id": "1c350f7f-2caf-4cbd-8d7d-b16e89caeb63",
   "metadata": {},
   "source": [
    "## 1. Overall Transformer Neural Networks Architecture"
   ]
  },
  {
   "cell_type": "markdown",
   "id": "8ea70ff5-e9b7-49ec-b7a3-e8c0de79e6ce",
   "metadata": {},
   "source": [
    "![Transformer Architect Image](./img/transformerarchitect.png)"
   ]
  },
  {
   "cell_type": "markdown",
   "id": "a0952992-5e25-45ae-af88-db73ba097af4",
   "metadata": {},
   "source": [
    "As we see, the overall architecture of the Transformer is in the upper part. It is probably quite difficult to understand the detailed picture so we need a broader picture. Let's see the next picture!"
   ]
  },
  {
   "cell_type": "markdown",
   "id": "41818887-f778-49f6-84fd-eb62a834088c",
   "metadata": {},
   "source": [
    "![Transformer Architect Image](./img/transformerblock.png)"
   ]
  },
  {
   "cell_type": "markdown",
   "id": "9fb81cdc-82e3-4705-884e-040fd86664ba",
   "metadata": {},
   "source": [
    "1. Input/Output Pre-processing\n",
    "\n",
    "Token Embeddings\n",
    "- **Function**: Converts each token in the input sequence into a dense vector of fixed size (commonly 512 dimensions).\n",
    "- **Implementation**: An embedding layer maps each token to a dense vector.\n",
    "\n",
    "Positional Encodings\n",
    "- **Function**: Adds information about the position of each token in the sequence to the token embeddings, since the Transformer architecture does not inherently capture sequence order.\n",
    "- **Implementation**: Sinusoidal functions are used to generate positional encodings, which are then added to the token embeddings.\n",
    "\n",
    "2. Encoder\n",
    "\n",
    "Processes the input sequence with a stack of identical layers. Each layer consists of:\n",
    "\n",
    "Multi-Head Self-Attention\n",
    "- **Function**: Allows each token to attend to all other tokens in the sequence, capturing dependencies regardless of their distance in the sequence.\n",
    "- **Implementation**: Multiple attention heads operate in parallel to learn different aspects of the input.\n",
    "\n",
    "Add & Norm\n",
    "- **Function**: Adds the input of each sub-layer to its output (residual connection) and applies layer normalization to stabilize and speed up training.\n",
    "- **Implementation**: Addition followed by normalization.\n",
    "\n",
    "Feed-Forward\n",
    "- **Function**: Applies a fully connected feed-forward network to each position independently and identically.\n",
    "- **Implementation**: Two linear transformations with a ReLU activation in between.\n",
    "\n",
    "3. Decoder\n",
    "\n",
    "Generates the output sequence from the encoded input using a stack of identical layers. Each layer consists of:\n",
    "\n",
    "Masked Multi-Head Self-Attention\n",
    "- **Function**: Prevents attending to future tokens in the sequence during training (autoregressive property).\n",
    "- **Implementation**: Similar to the encoder's self-attention but with a mask to prevent future token attention.\n",
    "\n",
    "Multi-Head Attention over Encoder’s Output\n",
    "- **Function**: Allows each position in the decoder to attend to all positions in the encoder's output.\n",
    "- **Implementation**: Standard multi-head attention mechanism applied to the encoder’s output.\n",
    "\n",
    "Add & Norm\n",
    "- **Function**: Similar to the encoder's Add & Norm, it adds residual connections and normalizes the output.\n",
    "- **Implementation**: Addition followed by normalization.\n",
    "\n",
    "Feed-Forward\n",
    "- **Function**: Similar to the encoder's feed-forward network.\n",
    "- **Implementation**: Two linear transformations with a ReLU activation in between.\n",
    "\n",
    "4. Output Post-processing\n",
    "\n",
    "**Function**\n",
    "- Transforms the decoder’s output into probabilities over the vocabulary.\n",
    "\n",
    "**Implementation**\n",
    "- A linear layer followed by a softmax function."
   ]
  },
  {
   "cell_type": "markdown",
   "id": "20f4159c-646b-4aec-8cff-1b643d350578",
   "metadata": {},
   "source": [
    "## 2. Detailed architecture we need to know"
   ]
  },
  {
   "cell_type": "code",
   "execution_count": 1,
   "id": "8e07bc12-4be4-4563-a951-0c2f8e96dc32",
   "metadata": {},
   "outputs": [],
   "source": [
    "# import library\n",
    "import numpy as np\n",
    "import torch\n",
    "import torch.nn as nn\n",
    "import torch.nn.functional as F\n",
    "import math\n",
    "import warnings"
   ]
  },
  {
   "cell_type": "code",
   "execution_count": 2,
   "id": "afd82f0c-85d0-4b55-a2f2-4bf74cd17e33",
   "metadata": {},
   "outputs": [],
   "source": [
    "warnings.filterwarnings('ignore')"
   ]
  },
  {
   "cell_type": "code",
   "execution_count": 3,
   "id": "da606af1-7d77-474b-9be3-efe085e84fe5",
   "metadata": {},
   "outputs": [
    {
     "name": "stdout",
     "output_type": "stream",
     "text": [
      "CUDA is available. PyTorch is using GPU.\n",
      "Number of GPUs available:  1\n",
      "GPU name:  NVIDIA GeForce GTX 1650\n"
     ]
    }
   ],
   "source": [
    "if torch.cuda.is_available():\n",
    "    print(\"CUDA is available. PyTorch is using GPU.\")\n",
    "    print(\"Number of GPUs available: \", torch.cuda.device_count())\n",
    "    print(\"GPU name: \", torch.cuda.get_device_name(0))\n",
    "else:\n",
    "    print(\"CUDA is not available. PyTorch is using CPU.\")"
   ]
  },
  {
   "cell_type": "markdown",
   "id": "23a131ee-75f2-4eab-b6f0-9bf0c6152ecc",
   "metadata": {},
   "source": [
    "### 2.1. Token Embedding"
   ]
  },
  {
   "cell_type": "markdown",
   "id": "04248c1e-0f6d-4587-914e-58bd4d468fde",
   "metadata": {},
   "source": [
    "In this section we will learn about Embedding Layer in Transformer architecture.\n",
    "\n",
    "First, we can imagine the embedding layer as a table / matrix used for lookup. The shape of that layer is (Number of words in the vocabulary) x (Number of dimensions we want, usually 512)\n",
    "\n",
    "So, every token (word) will be looked up in that embedding layer and take out the row/column related. The embedding vectors will be ready!\n",
    "\n",
    "![Input Embedding Block](./img/inputembedding.png)"
   ]
  },
  {
   "cell_type": "code",
   "execution_count": 4,
   "id": "32470ad9-3c79-48f7-a0b1-9c57ca6a9f69",
   "metadata": {},
   "outputs": [
    {
     "data": {
      "text/plain": [
       "Parameter containing:\n",
       "tensor([[ 1.3937,  0.1256, -0.8932,  ..., -0.9194, -0.7039, -0.1618],\n",
       "        [-0.7538, -0.5315, -0.0591,  ..., -0.5306,  1.1304, -0.7801],\n",
       "        [ 1.5919,  0.0230, -0.9720,  ...,  0.2655, -1.0322, -2.1292],\n",
       "        ...,\n",
       "        [ 1.2482,  0.8562, -0.0412,  ..., -0.3883,  0.6707,  0.4816],\n",
       "        [-0.5634, -1.3044,  0.4367,  ..., -2.3325, -1.2825,  0.8308],\n",
       "        [-1.6461, -1.3969,  0.1450,  ..., -0.4031,  0.4155, -0.8662]],\n",
       "       requires_grad=True)"
      ]
     },
     "execution_count": 4,
     "metadata": {},
     "output_type": "execute_result"
    }
   ],
   "source": [
    "# Create a embedding layer from torch.nn\n",
    "vocabulary_size = 1000\n",
    "dim_model = 512\n",
    "embedding_layer = nn.Embedding(vocabulary_size,dim_model)\n",
    "embedding_layer.weight"
   ]
  },
  {
   "cell_type": "code",
   "execution_count": 5,
   "id": "52949ef7-f2f9-4d11-b111-4f9469e70542",
   "metadata": {},
   "outputs": [
    {
     "data": {
      "text/plain": [
       "tensor([[-0.2335,  1.0646, -2.3319,  ...,  1.7019,  1.4127, -0.2654],\n",
       "        [ 0.3035, -0.8435,  0.1311,  ...,  0.2698, -0.5227,  0.0328],\n",
       "        [ 0.4563, -1.0369, -2.3897,  ..., -0.5200,  0.0794, -1.4444],\n",
       "        [ 0.0443, -0.7441,  0.9348,  ...,  0.1391, -0.2407, -1.0185]],\n",
       "       grad_fn=<EmbeddingBackward0>)"
      ]
     },
     "execution_count": 5,
     "metadata": {},
     "output_type": "execute_result"
    }
   ],
   "source": [
    "# Up to our setup, we don't need onehot ! we can use dictionary,...\n",
    "sequence = torch.tensor([23,54,28,85])\n",
    "embedding_layer(sequence)"
   ]
  },
  {
   "cell_type": "markdown",
   "id": "bc8e9d8c-2a4f-4402-acf4-03bd6beeed1c",
   "metadata": {},
   "source": [
    "### 2.2. Positional Encoding Block"
   ]
  },
  {
   "cell_type": "markdown",
   "id": "ab692613-5a32-49a4-91f9-60f0f1c61075",
   "metadata": {},
   "source": [
    "Do you get stuck in the question \"What are the differences between the same tokens (words) in the sequence after embedding?\" ?\n",
    "\n",
    "So, Positional Encoding Block is here to help us. This block simply means show the positional feature of each tokens (words) in the sequence.\n",
    "\n",
    "For example:"
   ]
  },
  {
   "cell_type": "markdown",
   "id": "00f6ac51-f913-4144-b783-cac5fd42628b",
   "metadata": {},
   "source": [
    "![Positional Encoding Block](./img/positionalencoding.png)"
   ]
  },
  {
   "cell_type": "markdown",
   "id": "f6a29bc7-50bf-4f25-b09b-b3e18d2dd2cb",
   "metadata": {},
   "source": [
    "Recipe:"
   ]
  },
  {
   "cell_type": "markdown",
   "id": "ffc31831-92ec-4e61-b878-5cad014908d3",
   "metadata": {},
   "source": [
    "$$\n",
    "PE(\\text{position}, 2i) = \\sin\\bigg( \\frac{ \\text{position} }{10000^\\frac{2i}{d_{model}}} \\bigg)\n",
    "$$\n",
    "\n",
    "$$\n",
    "PE(\\text{position}, 2i+1) = \\cos\\bigg( \\frac{ \\text{position} }{10000^\\frac{2i}{d_{model}}} \\bigg)\n",
    "$$\n",
    "\n",
    "We can rewrite these as\n",
    "\n",
    "$$\n",
    "PE(\\text{position}, i) = \\sin\\bigg( \\frac{ \\text{position} }{10000^\\frac{i}{d_{model}}} \\bigg) \\text{ when i is even}\n",
    "$$\n",
    "\n",
    "$$\n",
    "PE(\\text{position}, i) = \\cos\\bigg( \\frac{ \\text{position} }{10000^\\frac{i-1}{d_{model}}} \\bigg) \\text{ when i is odd}\n",
    "$$"
   ]
  },
  {
   "cell_type": "code",
   "execution_count": 6,
   "id": "05ca41e2-230f-4fc6-9e6d-6b229e8805f8",
   "metadata": {},
   "outputs": [],
   "source": [
    "# example\n",
    "dim_model = 512\n",
    "sequence_length = 10"
   ]
  },
  {
   "cell_type": "code",
   "execution_count": 7,
   "id": "7ac7ea27-6dd3-4593-be4c-9e64b7b6d13d",
   "metadata": {},
   "outputs": [
    {
     "name": "stdout",
     "output_type": "stream",
     "text": [
      "tensor([1.0000, 1.0366, 1.0746])\n",
      "tensor([1.0000, 1.0366, 1.0746])\n"
     ]
    }
   ],
   "source": [
    "even = torch.arange(0,dim_model,2).float()\n",
    "odd = torch.arange(1,dim_model,2).float()\n",
    "\n",
    "even = torch.pow(10000,even/dim_model)\n",
    "odd = torch.pow(10000,(odd-1)/dim_model)\n",
    "print(even[:3])\n",
    "print(odd[:3])"
   ]
  },
  {
   "cell_type": "code",
   "execution_count": 8,
   "id": "f8ac2afb-9f44-4768-881a-35e92457acf0",
   "metadata": {},
   "outputs": [],
   "source": [
    "position = torch.arange(0,sequence_length,1).unsqueeze(1)\n",
    "PE = torch.zeros(sequence_length,dim_model)"
   ]
  },
  {
   "cell_type": "code",
   "execution_count": 9,
   "id": "a61210aa-836c-4542-b6bf-be0dc4d67730",
   "metadata": {},
   "outputs": [
    {
     "data": {
      "text/plain": [
       "torch.Size([10, 512])"
      ]
     },
     "execution_count": 9,
     "metadata": {},
     "output_type": "execute_result"
    }
   ],
   "source": [
    "PE[:,0::2] = torch.sin(position / even)\n",
    "PE[:,1::2] = torch.cos(position / odd)\n",
    "PE.shape"
   ]
  },
  {
   "cell_type": "code",
   "execution_count": 10,
   "id": "629f899b-1d78-4177-9223-afd8c8d5c6e0",
   "metadata": {},
   "outputs": [
    {
     "data": {
      "text/plain": [
       "tensor([[ 0.0000e+00,  1.0000e+00,  0.0000e+00,  ...,  1.0000e+00,\n",
       "          0.0000e+00,  1.0000e+00],\n",
       "        [ 8.4147e-01,  5.4030e-01,  8.2186e-01,  ...,  1.0000e+00,\n",
       "          1.0366e-04,  1.0000e+00],\n",
       "        [ 9.0930e-01, -4.1615e-01,  9.3641e-01,  ...,  1.0000e+00,\n",
       "          2.0733e-04,  1.0000e+00],\n",
       "        ...,\n",
       "        [ 6.5699e-01,  7.5390e-01,  4.5239e-01,  ...,  1.0000e+00,\n",
       "          7.2564e-04,  1.0000e+00],\n",
       "        [ 9.8936e-01, -1.4550e-01,  9.9067e-01,  ...,  1.0000e+00,\n",
       "          8.2931e-04,  1.0000e+00],\n",
       "        [ 4.1212e-01, -9.1113e-01,  6.7637e-01,  ...,  1.0000e+00,\n",
       "          9.3297e-04,  1.0000e+00]])"
      ]
     },
     "execution_count": 10,
     "metadata": {},
     "output_type": "execute_result"
    }
   ],
   "source": [
    "PE"
   ]
  },
  {
   "cell_type": "markdown",
   "id": "6ec8e121-a8f8-4d0d-9661-c279989f0171",
   "metadata": {},
   "source": [
    "### 2.3. Query - Key - Value Layer"
   ]
  },
  {
   "cell_type": "markdown",
   "id": "9744736a-ad50-4f8e-97a9-6f70783946aa",
   "metadata": {},
   "source": [
    "Taking the output of Input Pre-processing, we analyze it into Query, Key, Value through a linear layer."
   ]
  },
  {
   "cell_type": "code",
   "execution_count": 11,
   "id": "5700fde9-d7c7-4b95-b2aa-30e1ccbc8d72",
   "metadata": {},
   "outputs": [
    {
     "data": {
      "text/plain": [
       "torch.Size([1, 4, 512])"
      ]
     },
     "execution_count": 11,
     "metadata": {},
     "output_type": "execute_result"
    }
   ],
   "source": [
    "sequence_length = 4\n",
    "batch_size = 1\n",
    "input_dim = 512\n",
    "d_model = 512\n",
    "x = torch.randn( (batch_size, sequence_length, input_dim) )\n",
    "x.shape"
   ]
  },
  {
   "cell_type": "code",
   "execution_count": 12,
   "id": "d5fb2a9b-6a63-4be7-b1b5-06d0e692f322",
   "metadata": {},
   "outputs": [
    {
     "data": {
      "text/plain": [
       "torch.Size([1, 4, 1536])"
      ]
     },
     "execution_count": 12,
     "metadata": {},
     "output_type": "execute_result"
    }
   ],
   "source": [
    "qkv_layer = nn.Linear(input_dim , 3 * dim_model)\n",
    "qkv = qkv_layer(x)\n",
    "qkv.shape"
   ]
  },
  {
   "cell_type": "code",
   "execution_count": 13,
   "id": "c48ef610-9079-4416-95d5-c78134aee319",
   "metadata": {},
   "outputs": [
    {
     "data": {
      "text/plain": [
       "Text(0.5, 1.0, 'qkv distribution')"
      ]
     },
     "execution_count": 13,
     "metadata": {},
     "output_type": "execute_result"
    },
    {
     "data": {
      "image/png": "[encoded data removed]",
      "text/plain": [
       "<Figure size 640x480 with 1 Axes>"
      ]
     },
     "metadata": {},
     "output_type": "display_data"
    }
   ],
   "source": [
    "import matplotlib.pyplot as plt\n",
    "y_val = torch.histc(qkv, bins=200, min=-3, max=3)\n",
    "x_val = np.arange(-1, 1, 0.01) * 3\n",
    "plt.bar(x_val, y_val, align='center', color=['forestgreen'])\n",
    "plt.title('qkv distribution')"
   ]
  },
  {
   "cell_type": "code",
   "execution_count": 14,
   "id": "238377a8-4f51-4a89-9228-417bd8bc10bd",
   "metadata": {},
   "outputs": [
    {
     "data": {
      "text/plain": [
       "torch.Size([1, 4, 8, 192])"
      ]
     },
     "execution_count": 14,
     "metadata": {},
     "output_type": "execute_result"
    }
   ],
   "source": [
    "num_heads = 8\n",
    "head_dim = d_model // num_heads\n",
    "qkv = qkv.reshape(batch_size, sequence_length, num_heads, 3 * head_dim)\n",
    "qkv.shape"
   ]
  },
  {
   "cell_type": "code",
   "execution_count": 15,
   "id": "c76bf8b9-fac0-4b07-95d6-96c05887e7f6",
   "metadata": {},
   "outputs": [
    {
     "data": {
      "text/plain": [
       "torch.Size([1, 8, 4, 192])"
      ]
     },
     "execution_count": 15,
     "metadata": {},
     "output_type": "execute_result"
    }
   ],
   "source": [
    "qkv = qkv.permute(0, 2, 1, 3) # [batch_size, num_heads, sequence_length, 3*head_dim]\n",
    "qkv.shape"
   ]
  },
  {
   "cell_type": "code",
   "execution_count": 16,
   "id": "7ac1af69-b689-45fc-ab35-08191be757ed",
   "metadata": {},
   "outputs": [
    {
     "data": {
      "text/plain": [
       "(torch.Size([1, 8, 4, 64]),\n",
       " torch.Size([1, 8, 4, 64]),\n",
       " torch.Size([1, 8, 4, 64]))"
      ]
     },
     "execution_count": 16,
     "metadata": {},
     "output_type": "execute_result"
    }
   ],
   "source": [
    "q, k, v = qkv.chunk(3, dim=-1)\n",
    "q.shape, k.shape, v.shape"
   ]
  },
  {
   "cell_type": "markdown",
   "id": "5d812fae-7159-4d7f-82d0-008eb8d554ac",
   "metadata": {},
   "source": [
    "### 2.4. Multi-Head Attention Block"
   ]
  },
  {
   "cell_type": "markdown",
   "id": "ecd46e4a-5467-4700-9170-d5d05ca7d1ec",
   "metadata": {},
   "source": [
    "![Encoder](./img/multihead-attention.png)"
   ]
  },
  {
   "cell_type": "markdown",
   "id": "5ad45180-fe92-47e4-9e6c-f8c255f2344c",
   "metadata": {},
   "source": [
    "With input include:\n",
    "> - Query: What we are looking for\n",
    "> - Key: What we can offer for\n",
    "> - Value: What we actually offer for\n",
    "\n",
    "With output include:\n",
    "> - New Value"
   ]
  },
  {
   "cell_type": "code",
   "execution_count": 17,
   "id": "7dd73ba6-a780-4753-adab-77b5464a83b8",
   "metadata": {},
   "outputs": [],
   "source": [
    "# We need Query, Key, Value For Example\n",
    "sequence_length , k_dim, v_dim = 5 , 10 , 10\n",
    "q = torch.randn(sequence_length, k_dim)\n",
    "k = torch.randn(sequence_length, k_dim)\n",
    "v = torch.randn(sequence_length, v_dim)"
   ]
  },
  {
   "cell_type": "code",
   "execution_count": 18,
   "id": "ba49b6de-2467-444e-9e29-4c334d3d9db3",
   "metadata": {},
   "outputs": [
    {
     "name": "stdout",
     "output_type": "stream",
     "text": [
      "tensor([[-0.3191, -0.4708,  0.3429, -2.1221, -0.1137,  1.3743,  0.0975,  1.0292,\n",
      "          2.2875, -0.2974],\n",
      "        [ 0.9593, -1.7273,  0.3280,  0.9653, -0.2611, -1.6205,  0.3708,  0.8018,\n",
      "          0.0896,  0.7936],\n",
      "        [-0.5439, -0.5651, -1.2851, -0.3332, -1.4748, -0.2102, -0.3630, -1.4412,\n",
      "          0.3236, -1.4236],\n",
      "        [-0.2197, -0.9366, -0.7344, -1.5166, -0.1788, -0.5006,  0.9733, -0.7582,\n",
      "         -0.1779, -0.9623],\n",
      "        [-0.1987,  0.7575, -1.9603,  3.4026, -0.0883,  1.1250,  2.1493,  0.1862,\n",
      "         -0.3211,  0.1516]])\n",
      "tensor([[ 2.1760, -0.6205,  0.7917,  0.1803,  1.0267, -1.6369,  0.2771, -0.1071,\n",
      "         -0.9687,  0.8795],\n",
      "        [ 1.1943,  0.0082, -1.4029, -0.0431, -0.0084, -1.0333, -2.2133,  0.0644,\n",
      "         -0.7200, -1.7051],\n",
      "        [ 0.2341,  1.5603,  0.7509,  0.4733,  0.4110,  0.5099,  0.2414,  3.0476,\n",
      "          2.3712,  0.0800],\n",
      "        [-0.8786, -0.0596,  1.4203,  2.1550,  0.4355,  0.4929,  0.3084, -1.6527,\n",
      "         -1.3534,  0.4832],\n",
      "        [-0.3113,  0.5953, -0.5650, -0.4419, -0.0087, -0.8665,  0.3514,  1.0144,\n",
      "         -0.4112, -0.4166]])\n",
      "tensor([[-0.5290, -0.6911, -0.9824,  0.1556, -0.4261,  1.0698,  0.2083,  0.4008,\n",
      "          0.7488,  1.1123],\n",
      "        [-2.6178, -0.1212,  2.5813,  1.0666,  0.6000,  0.4101, -1.1087,  1.2452,\n",
      "          0.1774,  0.5706],\n",
      "        [ 1.9289,  0.5228, -1.1621,  0.7470, -0.7082, -1.2132,  0.8729,  0.8431,\n",
      "         -0.4670,  0.1522],\n",
      "        [-0.3219, -1.1446,  1.4154,  1.2232,  0.6029, -2.2112, -1.7092, -0.6953,\n",
      "          0.9514,  0.2791],\n",
      "        [ 0.6115,  0.8320,  0.8855, -0.6304,  0.4980, -1.5496,  1.2029, -0.0129,\n",
      "         -0.8551, -0.4155]])\n"
     ]
    }
   ],
   "source": [
    "print(q)\n",
    "print(k)\n",
    "print(v)"
   ]
  },
  {
   "cell_type": "markdown",
   "id": "b43c9607-a401-4dbd-b765-ba406b8d3191",
   "metadata": {},
   "source": [
    "- Scaled Dot-Product Attention:\n",
    "Funtion:\n",
    "\n",
    "$$\n",
    "\\text{self attention} = softmax\\bigg(\\frac{Q.K^T}{\\sqrt{d_k}}+M\\bigg)\n",
    "$$\n",
    "\n",
    "$$\n",
    "\\text{new V} = \\text{self attention}.V\n",
    "$$ \n",
    "\n",
    "Q,K,V -(1)-> Matmul(Q,K.T) -(2)-> Scale -(3)-> Masking (Not Required for Encode) -(4)-> Softmax -(5)-> Matmul (. ,V) -> new V"
   ]
  },
  {
   "cell_type": "code",
   "execution_count": 19,
   "id": "5799c028-d217-4dc3-a407-dbc8129bd3b9",
   "metadata": {},
   "outputs": [
    {
     "data": {
      "text/plain": [
       "tensor([[-5.4404, -3.4830,  7.6584, -8.0600, -0.3654],\n",
       "        [ 6.6057,  0.1197,  0.1077, -0.0548,  0.0440],\n",
       "        [-4.5922,  4.2977, -6.6717, -1.6334, -0.2281],\n",
       "        [-0.4390,  0.9101, -5.6854, -3.0578,  1.0782],\n",
       "        [-2.7530, -3.5618,  2.1482,  6.0567,  0.1559]])"
      ]
     },
     "execution_count": 19,
     "metadata": {},
     "output_type": "execute_result"
    }
   ],
   "source": [
    "# Step 1: calculate Q.K_t\n",
    "step1 = torch.matmul(q,k.t())\n",
    "step1"
   ]
  },
  {
   "cell_type": "code",
   "execution_count": 20,
   "id": "2b095284-f9be-4e10-951c-2a874f3d6257",
   "metadata": {},
   "outputs": [
    {
     "data": {
      "text/plain": [
       "(tensor(1.2126), tensor(1.1840), tensor(16.2513))"
      ]
     },
     "execution_count": 20,
     "metadata": {},
     "output_type": "execute_result"
    }
   ],
   "source": [
    "# Step 2: Scale\n",
    "# Check variance\n",
    "q.var(), k.var(), step1.var()"
   ]
  },
  {
   "cell_type": "markdown",
   "id": "bf6ee4a7-0f56-405e-86e6-38050edbb6fc",
   "metadata": {},
   "source": [
    "As we see, the variance distance between Q, K, matmul(Q,K.T) is very high. We have to scale again so that the softmax function can work effectively, creating a probability distribution."
   ]
  },
  {
   "cell_type": "code",
   "execution_count": 21,
   "id": "2cc5b3a3-f8fb-483b-9f75-42bb93f0b3bc",
   "metadata": {},
   "outputs": [
    {
     "data": {
      "text/plain": [
       "tensor([[-1.7204, -1.1014,  2.4218, -2.5488, -0.1155],\n",
       "        [ 2.0889,  0.0379,  0.0341, -0.0173,  0.0139],\n",
       "        [-1.4522,  1.3590, -2.1098, -0.5165, -0.0721],\n",
       "        [-0.1388,  0.2878, -1.7979, -0.9670,  0.3410],\n",
       "        [-0.8706, -1.1263,  0.6793,  1.9153,  0.0493]])"
      ]
     },
     "execution_count": 21,
     "metadata": {},
     "output_type": "execute_result"
    }
   ],
   "source": [
    "step2 = step1 / math.sqrt(k_dim)\n",
    "step2"
   ]
  },
  {
   "cell_type": "markdown",
   "id": "747a282f-bed5-439c-912a-6888b20ed229",
   "metadata": {},
   "source": [
    "But **why** is **the number of Key dimension** and **why** use **square** ?\n",
    "\n",
    "Dividing by the square root of the dimension of the weight vector (in this case k_dim) has an important meaning.\n",
    "\n",
    "Specifically, in the Multi-Head Attention mechanism, after calculating attention scores, we will apply the softmax function to normalize these scores into a probability distribution. Dividing each score by the square root of k_dim helps control the amplitudes of the scores, preventing them from becoming too large or too small. This improves model stability and performance."
   ]
  },
  {
   "cell_type": "code",
   "execution_count": 22,
   "id": "caad7607-8720-4c9a-bdb6-691dc2a4eb41",
   "metadata": {},
   "outputs": [
    {
     "data": {
      "text/plain": [
       "tensor([[1., 0., 0., 0., 0.],\n",
       "        [1., 1., 0., 0., 0.],\n",
       "        [1., 1., 1., 0., 0.],\n",
       "        [1., 1., 1., 1., 0.],\n",
       "        [1., 1., 1., 1., 1.]])"
      ]
     },
     "execution_count": 22,
     "metadata": {},
     "output_type": "execute_result"
    }
   ],
   "source": [
    "# Step 3: Masking\n",
    "# This is not required in the encoding block but it is required in the decoding block\n",
    "# Masking is used to make sure that the current word/ token/ ... doesn't take the context from the future / generated word. That is cheating!!!!\n",
    "mask = torch.tril(torch.ones(sequence_length,sequence_length))\n",
    "mask"
   ]
  },
  {
   "cell_type": "code",
   "execution_count": 23,
   "id": "c3ef63a1-ffb1-43b5-ba98-e63100f2e0cd",
   "metadata": {},
   "outputs": [
    {
     "data": {
      "text/plain": [
       "tensor([[-1.7204,  0.0000,  0.0000,  0.0000,  0.0000],\n",
       "        [ 2.0889,  0.0379,  0.0000,  0.0000,  0.0000],\n",
       "        [-1.4522,  1.3590, -2.1098,  0.0000,  0.0000],\n",
       "        [-0.1388,  0.2878, -1.7979, -0.9670,  0.0000],\n",
       "        [-0.8706, -1.1263,  0.6793,  1.9153,  0.0493]])"
      ]
     },
     "execution_count": 23,
     "metadata": {},
     "output_type": "execute_result"
    }
   ],
   "source": [
    "# mask filter\n",
    "step3 = torch.tril(step2)\n",
    "step3"
   ]
  },
  {
   "cell_type": "code",
   "execution_count": 24,
   "id": "f4930851-c43f-4fd4-b04a-b54e37b5fb36",
   "metadata": {},
   "outputs": [
    {
     "data": {
      "text/plain": [
       "tensor([[-1.7204,    -inf,    -inf,    -inf,    -inf],\n",
       "        [ 2.0889,  0.0379,    -inf,    -inf,    -inf],\n",
       "        [-1.4522,  1.3590, -2.1098,    -inf,    -inf],\n",
       "        [-0.1388,  0.2878, -1.7979, -0.9670,    -inf],\n",
       "        [-0.8706, -1.1263,  0.6793,  1.9153,  0.0493]])"
      ]
     },
     "execution_count": 24,
     "metadata": {},
     "output_type": "execute_result"
    }
   ],
   "source": [
    "step3 = torch.where(step3 == 0, float('-inf'), step3)\n",
    "step3"
   ]
  },
  {
   "cell_type": "markdown",
   "id": "30c46613-8ade-4b71-87c2-6e4781c4fc17",
   "metadata": {},
   "source": [
    "**Why** is '-inf' ?\n",
    "\n",
    "When we take this to the Softmax Function(x), $e^{x}$ will go to value '0' if x goes to '-inf'. Otherwise, The value '0' will result in $e^{x}$ equals 1!!!"
   ]
  },
  {
   "cell_type": "markdown",
   "id": "a81e53cf-7fe1-4c8b-873c-f956a4f7c84e",
   "metadata": {},
   "source": [
    "$$\n",
    "\\text{softmax} = \\frac{e^{x_i}}{\\sum_j e^{x_j}}\n",
    "$$"
   ]
  },
  {
   "cell_type": "code",
   "execution_count": 25,
   "id": "5295fdbf-3d48-40d3-b80f-2efbfd6347e7",
   "metadata": {},
   "outputs": [
    {
     "data": {
      "text/plain": [
       "tensor([[1.0000, 0.0000, 0.0000, 0.0000, 0.0000],\n",
       "        [0.8861, 0.1139, 0.0000, 0.0000, 0.0000],\n",
       "        [0.0551, 0.9164, 0.0285, 0.0000, 0.0000],\n",
       "        [0.3165, 0.4849, 0.0602, 0.1383, 0.0000],\n",
       "        [0.0397, 0.0307, 0.1869, 0.6432, 0.0995]])"
      ]
     },
     "execution_count": 25,
     "metadata": {},
     "output_type": "execute_result"
    }
   ],
   "source": [
    "# Step 4: Softmax\n",
    "step4 = (torch.exp(step3).t() / torch.sum(torch.exp(step3),axis=-1)).t()\n",
    "step4"
   ]
  },
  {
   "cell_type": "code",
   "execution_count": 26,
   "id": "b266c3aa-a7b8-49dd-8899-8785895b021c",
   "metadata": {},
   "outputs": [
    {
     "data": {
      "text/plain": [
       "tensor([[-0.5290, -0.6911, -0.9824,  0.1556, -0.4261,  1.0698,  0.2083,  0.4008,\n",
       "          0.7488,  1.1123],\n",
       "        [-0.7670, -0.6261, -0.5763,  0.2594, -0.3092,  0.9946,  0.0583,  0.4970,\n",
       "          0.6837,  1.0506],\n",
       "        [-2.3729, -0.1343,  2.2780,  1.0073,  0.5061,  0.4001, -0.9795,  1.1872,\n",
       "          0.1905,  0.5885],\n",
       "        [-1.3653, -0.4043,  1.0665,  0.7806,  0.1968,  0.1586, -0.6555,  0.6854,\n",
       "          0.4265,  0.6766],\n",
       "        [ 0.1129, -0.5869,  0.8217,  0.9025,  0.3065, -1.7482, -0.8423, -0.2368,\n",
       "          0.4748,  0.2282]])"
      ]
     },
     "execution_count": 26,
     "metadata": {},
     "output_type": "execute_result"
    }
   ],
   "source": [
    "# Step5: matmul(.,V)\n",
    "step5 = torch.matmul(step4, v)\n",
    "step5"
   ]
  },
  {
   "cell_type": "markdown",
   "id": "b2d60ecf-297b-4100-95d0-0817fbf88796",
   "metadata": {},
   "source": [
    "### 2.5. Layer Normalization"
   ]
  },
  {
   "cell_type": "markdown",
   "id": "6dca0db1-9996-4827-a48e-18aea64aa71b",
   "metadata": {},
   "source": [
    "![layernormalization](./img/layernormalization.png)"
   ]
  },
  {
   "cell_type": "markdown",
   "id": "aa68b481-9eaa-4dd8-9f0b-97b7b4896ca1",
   "metadata": {},
   "source": [
    "Because the values in vectors have a wide both positive and negative range, the normalization will capture these values to a smaller range (around 0) for a stable training, preventing vanishing descent, higher speed. But why does Transformer use **Layer Normalization** instead of **Batch Normalization**?\n",
    "\n",
    "Layer Normalization is preferred in Transformers because it better suits the sequential and variable-length nature of the input data, maintains the independence of token processing, handles smaller batch sizes more effectively, and has been empirically shown to improve model performance and stability in NLP tasks."
   ]
  },
  {
   "cell_type": "markdown",
   "id": "dbb104ca-09d5-4755-b0b2-6a5204151017",
   "metadata": {},
   "source": [
    "Given an input vector $( x = (x_1, x_2, \\ldots, x_d))$:\n",
    "\n",
    "1. **Compute the mean**:\n",
    "   $$\n",
    "   \\mu = \\frac{1}{d} \\sum_{i=1}^d x_i\n",
    "   $$\n",
    "\n",
    "2. **Compute the variance**:\n",
    "   $$\n",
    "   \\sigma^2 = \\frac{1}{d} \\sum_{i=1}^d (x_i - \\mu)^2\n",
    "   $$\n",
    "\n",
    "3. **Normalize the input**: where $(\\epsilon)$ is a small constant to avoid division by zero.\n",
    "\n",
    "   $$\n",
    "   \\hat{x}_i = \\frac{x_i - \\mu}{\\sqrt{\\sigma^2 + \\epsilon}}\n",
    "   $$\n",
    "\n",
    "4. **Scale and shift** (optional, learnable parameters): where $(\\gamma)$ and $(\\beta)$ are learnable parameters (scale and shift).\n",
    "   $$\n",
    "   y_i = \\gamma \\hat{x}_i + \\beta\n",
    "   $$\n",
    "\n",
    "Final output:\n",
    "   $$\n",
    "   y = \\text{LayerNorm}(x) = \\gamma \\frac{x - \\mu}{\\sqrt{\\sigma^2 + \\epsilon}} + \\beta\n",
    "   $$\n"
   ]
  },
  {
   "cell_type": "code",
   "execution_count": 27,
   "id": "3e2fbe40-c772-4792-880b-e04eefbe3693",
   "metadata": {},
   "outputs": [
    {
     "data": {
      "text/plain": [
       "torch.Size([2, 1, 3])"
      ]
     },
     "execution_count": 27,
     "metadata": {},
     "output_type": "execute_result"
    }
   ],
   "source": [
    "inputs = torch.Tensor([[[0.2, 0.1, 0.3], [0.5, 0.1, 0.1]]])\n",
    "B, S, E = inputs.size() # Batch Seq Embedding\n",
    "inputs = inputs.reshape(S, B, E)\n",
    "inputs.size()"
   ]
  },
  {
   "cell_type": "code",
   "execution_count": 28,
   "id": "147b1569-7090-47ea-aba5-c27edf8a9405",
   "metadata": {},
   "outputs": [
    {
     "data": {
      "text/plain": [
       "(torch.Size([1, 3]), torch.Size([1, 3]))"
      ]
     },
     "execution_count": 28,
     "metadata": {},
     "output_type": "execute_result"
    }
   ],
   "source": [
    "parameter_shape = inputs.size()[-2:]\n",
    "gamma = nn.Parameter(torch.ones(parameter_shape))\n",
    "beta =  nn.Parameter(torch.zeros(parameter_shape))\n",
    "gamma.size(), beta.size()"
   ]
  },
  {
   "cell_type": "code",
   "execution_count": 29,
   "id": "08dbf610-c671-4fad-925f-12375d26f244",
   "metadata": {},
   "outputs": [
    {
     "data": {
      "text/plain": [
       "[-1, -2]"
      ]
     },
     "execution_count": 29,
     "metadata": {},
     "output_type": "execute_result"
    }
   ],
   "source": [
    "dims = [-(i + 1) for i in range(len(parameter_shape))]\n",
    "dims"
   ]
  },
  {
   "cell_type": "code",
   "execution_count": 30,
   "id": "d25e98f7-3bab-41a4-aa13-d91f5fd8941f",
   "metadata": {},
   "outputs": [
    {
     "data": {
      "text/plain": [
       "torch.Size([2, 1, 1])"
      ]
     },
     "execution_count": 30,
     "metadata": {},
     "output_type": "execute_result"
    }
   ],
   "source": [
    "mean = inputs.mean(dim=dims, keepdim=True)\n",
    "mean.size()"
   ]
  },
  {
   "cell_type": "code",
   "execution_count": 31,
   "id": "d59501d0-c1f0-46ab-9155-56160cc4a467",
   "metadata": {},
   "outputs": [
    {
     "data": {
      "text/plain": [
       "tensor([[[0.2000]],\n",
       "\n",
       "        [[0.2333]]])"
      ]
     },
     "execution_count": 31,
     "metadata": {},
     "output_type": "execute_result"
    }
   ],
   "source": [
    "mean"
   ]
  },
  {
   "cell_type": "code",
   "execution_count": 32,
   "id": "ff37cf87-3121-4975-b383-0a682ee6e82f",
   "metadata": {},
   "outputs": [
    {
     "data": {
      "text/plain": [
       "tensor([[[0.0817]],\n",
       "\n",
       "        [[0.1886]]])"
      ]
     },
     "execution_count": 32,
     "metadata": {},
     "output_type": "execute_result"
    }
   ],
   "source": [
    "var = ((inputs - mean) ** 2).mean(dim=dims, keepdim=True)\n",
    "epsilon = 1e-5\n",
    "std = (var + epsilon).sqrt()\n",
    "std"
   ]
  },
  {
   "cell_type": "code",
   "execution_count": 33,
   "id": "95415d91-55e3-43d4-8484-caf690948891",
   "metadata": {},
   "outputs": [
    {
     "data": {
      "text/plain": [
       "tensor([[[ 0.0000, -1.2238,  1.2238]],\n",
       "\n",
       "        [[ 1.4140, -0.7070, -0.7070]]])"
      ]
     },
     "execution_count": 33,
     "metadata": {},
     "output_type": "execute_result"
    }
   ],
   "source": [
    "y = (inputs - mean) / std\n",
    "y"
   ]
  },
  {
   "cell_type": "code",
   "execution_count": 34,
   "id": "2f85e1d1-0d47-4e6a-a212-3268fc4dc1e2",
   "metadata": {},
   "outputs": [
    {
     "data": {
      "text/plain": [
       "tensor([[[ 0.0000, -1.2238,  1.2238]],\n",
       "\n",
       "        [[ 1.4140, -0.7070, -0.7070]]], grad_fn=<AddBackward0>)"
      ]
     },
     "execution_count": 34,
     "metadata": {},
     "output_type": "execute_result"
    }
   ],
   "source": [
    "out = gamma * y + beta\n",
    "out"
   ]
  },
  {
   "cell_type": "markdown",
   "id": "b48b4e6c-64f6-467c-86a4-e10db90c207e",
   "metadata": {},
   "source": [
    "### 2.6. Feed Forward (Position-Wise)"
   ]
  },
  {
   "cell_type": "markdown",
   "id": "f5b7e52c-b975-4bd9-bcd8-6a8f2c73c348",
   "metadata": {},
   "source": [
    "![FeedForward](./img/feedforward.png)"
   ]
  },
  {
   "cell_type": "markdown",
   "id": "4cb12246-f029-47c1-be64-3f7d84b6e4d2",
   "metadata": {},
   "source": [
    "The Position-Wise Feed Forward Network (PWFFN) plays a crucial role in processing and transforming the embeddings of tokens independently at each position in a sequence.\n",
    "\n",
    "A Position-Wise Feed Forward Network typically consists of two fully connected (linear) layers with a non-linear activation function (usually ReLU) in between. Additionally, dropout is often used to prevent overfitting.\n",
    "\n",
    "$$output=Linear_2(Dropout(ReLU(Linear_1 (x)))) $$"
   ]
  },
  {
   "cell_type": "code",
   "execution_count": 35,
   "id": "6b3ee334-dc8e-4557-a144-78319171ee01",
   "metadata": {},
   "outputs": [
    {
     "data": {
      "text/plain": [
       "torch.Size([1, 5, 512])"
      ]
     },
     "execution_count": 35,
     "metadata": {},
     "output_type": "execute_result"
    }
   ],
   "source": [
    "linear1 = nn.Linear(512, 300)\n",
    "linear2 = nn.Linear(300, 512)\n",
    "relu = nn.ReLU()\n",
    "dropout = nn.Dropout(p=0.1)\n",
    "linear2(dropout(relu(linear1(torch.randn(1,5,512))))).shape"
   ]
  },
  {
   "cell_type": "markdown",
   "id": "3cade4c7-04dd-43a2-a179-aa06165329cb",
   "metadata": {},
   "source": [
    "## 3. Overall"
   ]
  },
  {
   "cell_type": "markdown",
   "id": "351bf966-0c3c-43d5-9af9-42f0b56aee45",
   "metadata": {},
   "source": [
    "Overall: Other blocks are similar to all upper blocks. So we have a sight in the question \"Why Transformer Neural Networks Model is special and strong\". Like a name \"Attention is all you need!\", We must understand about what's attention ? How's attention ? Why's attention ?. Now we can make our Transformer model base on this architecture and attention mechaism!"
   ]
  },
  {
   "cell_type": "markdown",
   "id": "a3cb6271-384e-47e4-95cb-99e13ef9dc31",
   "metadata": {},
   "source": [
    "## 4. References\n",
    "- Thanks for Ajay Halthor - [@CodeEmporium](https://www.youtube.com/@CodeEmporium)"
   ]
  },
  {
   "cell_type": "code",
   "execution_count": null,
   "id": "e3496506-6d55-4fa8-ab24-be912fe6c5a3",
   "metadata": {},
   "outputs": [],
   "source": []
  }
 ],
 "metadata": {
  "kernelspec": {
   "display_name": "TorchCuda",
   "language": "python",
   "name": "torchcuda"
  },
  "language_info": {
   "codemirror_mode": {
    "name": "ipython",
    "version": 3
   },
   "file_extension": ".py",
   "mimetype": "text/x-python",
   "name": "python",
   "nbconvert_exporter": "python",
   "pygments_lexer": "ipython3",
   "version": "3.10.14"
  }
 },
 "nbformat": 4,
 "nbformat_minor": 5
}
